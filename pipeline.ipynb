{
 "cells": [
  {
   "cell_type": "markdown",
   "metadata": {},
   "source": [
    "### import packages"
   ]
  },
  {
   "cell_type": "code",
   "execution_count": 10,
   "metadata": {},
   "outputs": [],
   "source": [
    "import numpy as np\n",
    "import subprocess\n",
    "from pathlib import Path\n",
    "import os\n",
    "import open3d as o3d\n",
    "import vedo\n",
    "import shutil\n",
    "import json\n",
    "import importlib\n",
    "import sys\n",
    "from PIL import Image\n",
    "import trimesh\n",
    "from tabulate import tabulate\n",
    "import copy"
   ]
  },
  {
   "cell_type": "markdown",
   "metadata": {},
   "source": [
    "### Load absolute paths of the applications"
   ]
  },
  {
   "cell_type": "code",
   "execution_count": 11,
   "metadata": {},
   "outputs": [],
   "source": [
    "with open(Path.cwd() / \"path_settings.json\", \"r\") as data:\n",
    "    app_paths = json.load(data)"
   ]
  },
  {
   "cell_type": "markdown",
   "metadata": {},
   "source": [
    "### Generate synthetic data with Blender"
   ]
  },
  {
   "cell_type": "code",
   "execution_count": 12,
   "metadata": {},
   "outputs": [],
   "source": [
    "project_name = 'static_MS_20_2_3cams'  # What should be the name of the project\n",
    "# Does the object move?\n",
    "obj_moving = False\n",
    "# base file path of the script files\n",
    "script_folder = Path.cwd() / \"blender_pipeline\" / \"Scripts\""
   ]
  },
  {
   "cell_type": "markdown",
   "metadata": {},
   "source": [
    "##### Load standard parameters from json file"
   ]
  },
  {
   "cell_type": "code",
   "execution_count": 13,
   "metadata": {},
   "outputs": [],
   "source": [
    "# Load standard parameters\n",
    "params_file_name = \"params_movingO.json\" if obj_moving else \"params_fixedO.json\"\n",
    "params_file_path = Path(script_folder) / params_file_name\n",
    "with open(params_file_path, 'r') as file:\n",
    "    params = json.load(file)\n",
    "params[\"io\"][\"name\"] = project_name"
   ]
  },
  {
   "cell_type": "markdown",
   "metadata": {},
   "source": [
    "#### Choose and Overwrite parameters"
   ]
  },
  {
   "cell_type": "code",
   "execution_count": 14,
   "metadata": {},
   "outputs": [],
   "source": [
    "# how to label rendered images\n",
    "params[\"io\"][\"label_images\"] = 3 if obj_moving else 1 \n",
    "    # 1: \"{project_name}_{image_count}\"\n",
    "    # 2: \"{project_name}_{timestep_count}_{camera_number}\" \n",
    "    # 3: \"{project_name}_{camera_number}_{timestep_count}\""
   ]
  },
  {
   "cell_type": "markdown",
   "metadata": {},
   "source": [
    "##### Object and Movement"
   ]
  },
  {
   "cell_type": "code",
   "execution_count": 15,
   "metadata": {},
   "outputs": [],
   "source": [
    "obj = 'MS_20_2'          # choose object: 'Dodekaeder', 'BP_02', 'MS_20_2', BP_02_forest_ground, BP_02_rocky_trail\n",
    "params[\"motion\"][\"s0\"] = [0, 0, 1.1]               # [m] set x,y,z position of the object at t=0s, \n",
    "if obj_moving == False:\n",
    "    params[\"motion\"][\"s0\"] = [0, 0, 1] \n",
    "params[\"motion\"][\"omega\"] = [360*10, 0, 180*10]      # [°/s] angular velocity, rotation around x,y,z-axes\n",
    "params[\"motion\"][\"a\"] = [0, 0, -9.81]      # [°/s] angular velocity, rotation around x,y,z-axes\n",
    "#---------------------------------------------------------------------------------------------------------------------------------------------------\n",
    "if obj == 'Dodekaeder':\n",
    "    params[\"io\"][\"obj_path\"] = r\"C:\\Users\\Tobias\\Documents\\Masterarbeit_lokal\\synthetic_pipeline\\objects\\Dodekaeder\\Mesh-Dateien\\Wuerfel_12s\\centered\\12s.obj\"\n",
    "elif obj == 'BP_02':\n",
    "    params[\"io\"][\"obj_path\"] = r\"C:\\Users\\Tobias\\Documents\\Masterarbeit_lokal\\synthetic_pipeline\\objects\\BP_02\\centered\\BP_2_Model.obj\"\n",
    "elif obj == 'MS_20_2':\n",
    "    params[\"io\"][\"obj_path\"] = r\"C:\\Users\\Tobias\\Documents\\Masterarbeit_lokal\\synthetic_pipeline\\objects\\MS_20_2\\centered\\MS_22_2_wR_schw_M.obj\"\n",
    "elif obj == 'BP_02_rocky_trail':\n",
    "    params[\"io\"][\"obj_path\"] = r\"C:\\Users\\Tobias\\Documents\\Masterarbeit_lokal\\synthetic_pipeline\\objects\\BP_02_rocky_trail\\BP_02_rocky_trail.obj\"\n",
    "elif obj == 'BP_02_forest_ground':\n",
    "    params[\"io\"][\"obj_path\"] = r\"C:\\Users\\Tobias\\Documents\\Masterarbeit_lokal\\synthetic_pipeline\\objects\\BP_02_forest_ground\\BP_02_forest_ground.obj\"\n",
    "elif obj == \"Schotterpartikel_46\":\n",
    "    params[\"io\"][\"obj_path\"] = r\"C:\\Users\\Tobias\\Documents\\Masterarbeit_lokal\\synthetic_pipeline\\objects\\Schotterpartikel_46\\Schotterpartikel_46_f005.obj\"\n",
    "elif obj == 'Schotterpartikel_46_forest_ground':\n",
    "    params[\"io\"][\"obj_path\"] = r\"C:\\Users\\Tobias\\Documents\\Masterarbeit_lokal\\synthetic_pipeline\\objects\\Schotterpartikel_46_forest_ground\\Schotterpartikel_46_forest_ground.obj\"\n",
    "elif obj == 'Schotterpartikel_46_rocky_trail':\n",
    "    params[\"io\"][\"obj_path\"] = r\"C:\\Users\\Tobias\\Documents\\Masterarbeit_lokal\\synthetic_pipeline\\objects\\Schotterpartikel_46_rocky_trail\\Schotterpartikel_46_rocky_trail.obj\""
   ]
  },
  {
   "cell_type": "markdown",
   "metadata": {},
   "source": [
    "##### Camera, Rendering"
   ]
  },
  {
   "cell_type": "code",
   "execution_count": 16,
   "metadata": {},
   "outputs": [],
   "source": [
    "params[\"cam\"][\"even_dist\"] = True\n",
    "params[\"cam\"][\"pos_file_path\"] = r\"C:\\Users\\Tobias\\Documents\\Masterarbeit_lokal\\synthetic_pipeline\\blender_pipeline\\Scripts\\CamerasExtrinsicsStatic.json\"\n",
    "params[\"cam\"][\"number\"] = 10\n",
    "params[\"cam\"][\"distance\"] = 0.2     # m\n",
    "params[\"cam\"][\"vert_angle\"] = [-45,0,45]\n",
    "params[\"cam\"][\"fps\"] = 218\n",
    "params[\"cam\"][\"sensor_size\"] = [7.12, 5.33]  # [mm,mm] sensor width and sensor height\n",
    "params[\"cam\"][\"focal_length\"] = 16           # [mm] focal length of all cameras\n",
    "\n",
    "params[\"render\"][\"resolution_x\"] = 2064\n",
    "params[\"render\"][\"resolution_y\"] = 1544\n",
    "params[\"render\"][\"format\"] = 'JPEG'          # Select image format: 'JPEG' or 'PNG'"
   ]
  },
  {
   "cell_type": "markdown",
   "metadata": {},
   "source": [
    "##### Overwrite json-File"
   ]
  },
  {
   "cell_type": "code",
   "execution_count": 17,
   "metadata": {},
   "outputs": [],
   "source": [
    "with open(params_file_path, \"w\") as json_file:\n",
    "    json.dump(params, json_file, indent=5)  "
   ]
  },
  {
   "cell_type": "markdown",
   "metadata": {},
   "source": [
    "#### Render Images with Blender"
   ]
  },
  {
   "cell_type": "code",
   "execution_count": 18,
   "metadata": {},
   "outputs": [],
   "source": [
    "blender_path = app_paths[\"blender_exe\"]\n",
    "script_name = 'moving_object.py' if obj_moving else 'fixed_object.py'\n",
    "script_path = Path(script_folder) / script_name\n",
    "command = f\"{blender_path} --background --python {script_path}\"\n",
    "return_code = subprocess.run(command,text=True)"
   ]
  },
  {
   "cell_type": "markdown",
   "metadata": {},
   "source": [
    "#### Read cache-file --> get the Path of the Output-Folder"
   ]
  },
  {
   "cell_type": "code",
   "execution_count": 19,
   "metadata": {},
   "outputs": [],
   "source": [
    "cache_file_path = Path(script_folder) / \"cache.txt\"\n",
    "with open(cache_file_path) as cache_file:\n",
    "    image_dir = cache_file.read()"
   ]
  },
  {
   "cell_type": "markdown",
   "metadata": {},
   "source": [
    "### 3D Reconstruction with Meshroom"
   ]
  },
  {
   "cell_type": "markdown",
   "metadata": {},
   "source": [
    "#### Select storage locations"
   ]
  },
  {
   "cell_type": "code",
   "execution_count": 20,
   "metadata": {},
   "outputs": [],
   "source": [
    "meshroom_path = Path(app_paths[\"meshroom_folder\"])\n",
    "base_output_path = Path.cwd() / Path(\"meshroom_data/\")\n",
    "output_path = base_output_path / project_name\n",
    "if output_path.exists():    # Check if the folder already exists\n",
    "    counter = 1             # Initialize counter\n",
    "    while True:             # Generate a unique folder name\n",
    "        output_path_with_suffix  = base_output_path  / f\"{project_name}_{counter}\"  # Create the folder path with suffix\n",
    "        if not output_path_with_suffix.exists():                                    # Check if the folder with suffix already exists\n",
    "            output_path = output_path_with_suffix\n",
    "            break    \n",
    "        counter += 1        # Increment counter for the next attempt\n",
    "os.mkdir(output_path)\n",
    "cache_path = output_path / 'MeshroomCache'\n",
    "project_path = output_path / 'project.mg'\n",
    "evaluation_path = output_path / 'Evaluation'\n",
    "os.mkdir(cache_path); os.mkdir(evaluation_path)"
   ]
  },
  {
   "cell_type": "markdown",
   "metadata": {},
   "source": [
    "### start the full photogrammetry pipeline in Meshroom (SfM+MFS)"
   ]
  },
  {
   "cell_type": "code",
   "execution_count": 21,
   "metadata": {},
   "outputs": [],
   "source": [
    "describerDensity = \"normal\"     # Control the ImageDescriber density (low,medium,normal,high,ultra) --> Use ultra only on small datasets\n",
    "describerQuality = \"normal\"     # Control the ImageDescriber quality (low,medium,normal,high,ultra)\n",
    "texture_file_type = \"png\"       # Choose the texture file type (jpg, png)\n",
    "InterFileExtension = \".ply\"     # Extension of the intermediate file export. (‘.abc’, ‘.ply’)\n",
    "\n",
    "# Construct the command\n",
    "command = [\n",
    "    meshroom_path / 'meshroom_batch.exe',\n",
    "    '--input',image_dir,\n",
    "    '--output',evaluation_path, # File path to the location where the textured mesh files are saved\n",
    "    '--cache',cache_path,\n",
    "    '--save',project_path,      # File path where the Meshroom-project file is saved\n",
    "    '--paramO',                 # Override default Parameters of the meshroom_batch pipeline\n",
    "        f'FeatureExtraction:describerPreset={describerDensity}',            # choose describer density (Feature Extraction)\n",
    "        f'FeatureExtraction:describerQuality={describerQuality}',           # choose describer quality (Feature Extraction)\n",
    "        'FeatureMatching:crossMatching=1',                                  # two features in both sets should match each other, It provides consistent result\n",
    "#        matcher returns only those matches with value (i,j) such that i-th descriptor in set A has j-th descriptor in set B as the best match and vice-versa\n",
    "        'Texturing:correctEV=0',                                            # deactivate correct Exposure, led to problems with texture creation for large datasets\n",
    "        f'Texturing:colorMapping.colorMappingFileType={texture_file_type}', # choose texture file type\n",
    "        f'StructureFromMotion:interFileExtension={InterFileExtension}'      # choose Strcuture from Motion Output file, (default 'abc' --> not readable by some programs )\n",
    "]\n",
    "# Run the command\n",
    "log_file = output_path / 'logfile.txt'\n",
    "f = open(log_file, 'w')\n",
    "return_code = subprocess.run(command, text=True, stdout=f, stderr=subprocess.PIPE)\n",
    "\n",
    "# Write a cache file in the evaluation folder so that the evaluation can be repeated at a later time. \n",
    "obj_path = params[\"io\"][\"obj_path\"]\n",
    "with open((evaluation_path / \"cache.txt\"), 'w') as cache_file:\n",
    "    cache_file.write(f\"project_name: {project_name}\\n\")\n",
    "    cache_file.write(f\"output_path: {output_path}\\n\")\n",
    "    cache_file.write(f\"image_dir: {image_dir}\\n\")\n",
    "    cache_file.write(f\"obj_path: {obj_path}\\n\")"
   ]
  },
  {
   "cell_type": "code",
   "execution_count": null,
   "metadata": {},
   "outputs": [
    {
     "data": {
      "text/plain": [
       "CompletedProcess(args=[WindowsPath('C:/Users/Tobias/Documents/Masterarbeit_lokal/Meshroom-2023.3.0/meshroom_batch.exe'), '--input', 'C:\\\\Users\\\\Tobias\\\\Documents\\\\Masterarbeit_lokal\\\\synthetic_pipeline\\\\blender_data\\\\moving_MS_20_2_3cams_1', '--output', WindowsPath('c:/Users/Tobias/Documents/Masterarbeit_lokal/synthetic_pipeline/meshroom_data/moving_MS_20_2_3cams_1/Evaluation'), '--cache', WindowsPath('c:/Users/Tobias/Documents/Masterarbeit_lokal/synthetic_pipeline/meshroom_data/moving_MS_20_2_3cams_1/MeshroomCache'), '--save', WindowsPath('c:/Users/Tobias/Documents/Masterarbeit_lokal/synthetic_pipeline/meshroom_data/moving_MS_20_2_3cams_1/project.mg'), '--randomSeed', '10', '--paramO', 'FeatureExtraction:describerPreset=normal', 'FeatureExtraction:describerQuality=normal', 'FeatureMatching:crossMatching=1', 'Texturing:correctEV=0', 'Texturing:colorMapping.colorMappingFileType=png', 'StructureFromMotion:interFileExtension=.ply'], returncode=2, stderr='usage: meshroom_batch.exe [-h]\\n                          [-i [NODEINSTANCE:\"SFM/FOLDERS/IMAGES;...\" [NODEINSTANCE:\"SFM/FOLDERS/IMAGES;...\" ...]]]\\n                          [-I [NODEINSTANCE:\"FOLDERS/IMAGES;...\" [NODEINSTANCE:\"FOLDERS/IMAGES;...\" ...]]]\\n                          [-p FILE.mg/cameraTracking/cameraTrackingWithoutCalibration/distortionCalibration/hdrFusion/nodalCameraTracking/panoramaFisheyeHdr/panoramaHdr/photogrammetry/photogrammetryAndCameraTracking/photogrammetryDraft/stereoPhotometry]\\n                          [--overrides SETTINGS]\\n                          [--paramOverrides [NODETYPE:param=value NODEINSTANCE.param=value [NODETYPE:param=value NODEINSTANCE.param=value ...]]]\\n                          [-o FOLDER] [--cache FOLDER] [--save FILE]\\n                          [--compute <yes/no>] [--toNode [NODE [NODE ...]]]\\n                          [--forceStatus] [--forceCompute] [--submit]\\n                          [--submitLabel SUBMITLABEL] [--submitter SUBMITTER]\\n                          [-v {,fatal,error,warning,info,debug,trace}]\\nmeshroom_batch.exe: error: unrecognized arguments: --randomSeed 10\\n')"
      ]
     },
     "execution_count": 37,
     "metadata": {},
     "output_type": "execute_result"
    }
   ],
   "source": [
    "return_code"
   ]
  },
  {
   "cell_type": "code",
   "execution_count": null,
   "metadata": {},
   "outputs": [
    {
     "name": "stderr",
     "output_type": "stream",
     "text": [
      "\u001b[1m\u001b[31;20m[vedo.file_io] ERROR: in load(), cannot load c:\\Users\\Tobias\\Documents\\Masterarbeit_lokal\\synthetic_pipeline\\meshroom_data\\moving_MS_20_2_3cams_1\\Evaluation\\texturedMesh.obj\u001b[0m\n"
     ]
    },
    {
     "ename": "AttributeError",
     "evalue": "'NoneType' object has no attribute 'dataset'",
     "output_type": "error",
     "traceback": [
      "\u001b[1;31m---------------------------------------------------------------------------\u001b[0m",
      "\u001b[1;31mAttributeError\u001b[0m                            Traceback (most recent call last)",
      "Cell \u001b[1;32mIn[34], line 3\u001b[0m\n\u001b[0;32m      1\u001b[0m importlib\u001b[38;5;241m.\u001b[39mreload(sys\u001b[38;5;241m.\u001b[39mmodules[\u001b[38;5;124m'\u001b[39m\u001b[38;5;124msrc.plot_mesh_vedo\u001b[39m\u001b[38;5;124m'\u001b[39m]) \u001b[38;5;28;01mif\u001b[39;00m \u001b[38;5;124m'\u001b[39m\u001b[38;5;124msrc.plot_mesh_vedo\u001b[39m\u001b[38;5;124m'\u001b[39m \u001b[38;5;129;01min\u001b[39;00m sys\u001b[38;5;241m.\u001b[39mmodules \u001b[38;5;28;01melse\u001b[39;00m \u001b[38;5;28;01mNone\u001b[39;00m\n\u001b[0;32m      2\u001b[0m \u001b[38;5;28;01mfrom\u001b[39;00m \u001b[38;5;21;01msrc\u001b[39;00m\u001b[38;5;21;01m.\u001b[39;00m\u001b[38;5;21;01mplot_mesh_vedo\u001b[39;00m \u001b[38;5;28;01mimport\u001b[39;00m plot_mesh_vedo\n\u001b[1;32m----> 3\u001b[0m fig,screenshot_path \u001b[38;5;241m=\u001b[39m \u001b[43mplot_mesh_vedo\u001b[49m\u001b[43m(\u001b[49m\u001b[43mproject_name\u001b[49m\u001b[43m,\u001b[49m\u001b[43mevaluation_path\u001b[49m\u001b[43m)\u001b[49m\n\u001b[0;32m      4\u001b[0m img \u001b[38;5;241m=\u001b[39m Image\u001b[38;5;241m.\u001b[39mopen(screenshot_path)\n\u001b[0;32m      5\u001b[0m scale \u001b[38;5;241m=\u001b[39m \u001b[38;5;241m0.6\u001b[39m\n",
      "File \u001b[1;32mc:\\Users\\Tobias\\Documents\\Masterarbeit_lokal\\synthetic_pipeline\\src\\plot_mesh_vedo.py:9\u001b[0m, in \u001b[0;36mplot_mesh_vedo\u001b[1;34m(project_name, output_path)\u001b[0m\n\u001b[0;32m      6\u001b[0m mesh_path \u001b[38;5;241m=\u001b[39m \u001b[38;5;28mstr\u001b[39m(Path(output_path) \u001b[38;5;241m/\u001b[39m \u001b[38;5;124m'\u001b[39m\u001b[38;5;124mtexturedMesh.obj\u001b[39m\u001b[38;5;124m'\u001b[39m)\n\u001b[0;32m      7\u001b[0m texture_path \u001b[38;5;241m=\u001b[39m \u001b[38;5;28mstr\u001b[39m(Path(output_path) \u001b[38;5;241m/\u001b[39m\u001b[38;5;124m'\u001b[39m\u001b[38;5;124mtexture_1001.png\u001b[39m\u001b[38;5;124m'\u001b[39m)\n\u001b[1;32m----> 9\u001b[0m mesh_vedo \u001b[38;5;241m=\u001b[39m \u001b[43mvedo\u001b[49m\u001b[38;5;241;43m.\u001b[39;49m\u001b[43mMesh\u001b[49m\u001b[43m(\u001b[49m\u001b[43mmesh_path\u001b[49m\u001b[43m)\u001b[49m\u001b[38;5;241m.\u001b[39mtexture(texture_path)\n\u001b[0;32m     11\u001b[0m \u001b[38;5;66;03m# List of planes\u001b[39;00m\n\u001b[0;32m     12\u001b[0m planes \u001b[38;5;241m=\u001b[39m [\u001b[38;5;124m'\u001b[39m\u001b[38;5;124mxy\u001b[39m\u001b[38;5;124m'\u001b[39m, \u001b[38;5;124m'\u001b[39m\u001b[38;5;124myz\u001b[39m\u001b[38;5;124m'\u001b[39m, \u001b[38;5;124m'\u001b[39m\u001b[38;5;124mxz\u001b[39m\u001b[38;5;124m'\u001b[39m]\n",
      "File \u001b[1;32mc:\\Users\\Tobias\\Documents\\Masterarbeit_lokal\\synthetic_pipeline\\venv_synthetic_311\\Lib\\site-packages\\vedo\\mesh.py:59\u001b[0m, in \u001b[0;36mMesh.__init__\u001b[1;34m(self, inputobj, c, alpha)\u001b[0m\n\u001b[0;32m     56\u001b[0m     \u001b[38;5;28;01mpass\u001b[39;00m\n\u001b[0;32m     58\u001b[0m \u001b[38;5;28;01melif\u001b[39;00m \u001b[38;5;28misinstance\u001b[39m(inputobj, \u001b[38;5;28mstr\u001b[39m):\n\u001b[1;32m---> 59\u001b[0m     \u001b[38;5;28mself\u001b[39m\u001b[38;5;241m.\u001b[39mdataset \u001b[38;5;241m=\u001b[39m \u001b[43mvedo\u001b[49m\u001b[38;5;241;43m.\u001b[39;49m\u001b[43mfile_io\u001b[49m\u001b[38;5;241;43m.\u001b[39;49m\u001b[43mload\u001b[49m\u001b[43m(\u001b[49m\u001b[43minputobj\u001b[49m\u001b[43m)\u001b[49m\u001b[38;5;241;43m.\u001b[39;49m\u001b[43mdataset\u001b[49m\n\u001b[0;32m     60\u001b[0m     \u001b[38;5;28mself\u001b[39m\u001b[38;5;241m.\u001b[39mfilename \u001b[38;5;241m=\u001b[39m inputobj\n\u001b[0;32m     62\u001b[0m \u001b[38;5;28;01melif\u001b[39;00m \u001b[38;5;28misinstance\u001b[39m(inputobj, vtki\u001b[38;5;241m.\u001b[39mvtkPolyData):\n\u001b[0;32m     63\u001b[0m     \u001b[38;5;66;03m# self.dataset.DeepCopy(inputobj) # NO\u001b[39;00m\n",
      "\u001b[1;31mAttributeError\u001b[0m: 'NoneType' object has no attribute 'dataset'"
     ]
    }
   ],
   "source": [
    "importlib.reload(sys.modules['src.plot_mesh_vedo']) if 'src.plot_mesh_vedo' in sys.modules else None\n",
    "from src.plot_mesh_vedo import plot_mesh_vedo\n",
    "fig,screenshot_path = plot_mesh_vedo(project_name,evaluation_path)\n",
    "img = Image.open(screenshot_path)\n",
    "scale = 0.6\n",
    "display(img.resize(( int(img.width * scale), int(img.height * scale))))"
   ]
  },
  {
   "cell_type": "code",
   "execution_count": null,
   "metadata": {},
   "outputs": [
    {
     "data": {
      "text/plain": [
       "WindowsPath('c:/Users/Tobias/Documents/Masterarbeit_lokal/synthetic_pipeline/meshroom_data/moving_MS_20_2_3cams')"
      ]
     },
     "execution_count": 20,
     "metadata": {},
     "output_type": "execute_result"
    }
   ],
   "source": [
    "output_path"
   ]
  },
  {
   "cell_type": "code",
   "execution_count": null,
   "metadata": {},
   "outputs": [],
   "source": []
  }
 ],
 "metadata": {
  "kernelspec": {
   "display_name": "env_pipeline1",
   "language": "python",
   "name": "python3"
  },
  "language_info": {
   "codemirror_mode": {
    "name": "ipython",
    "version": 3
   },
   "file_extension": ".py",
   "mimetype": "text/x-python",
   "name": "python",
   "nbconvert_exporter": "python",
   "pygments_lexer": "ipython3",
   "version": "3.11.8"
  }
 },
 "nbformat": 4,
 "nbformat_minor": 2
}
