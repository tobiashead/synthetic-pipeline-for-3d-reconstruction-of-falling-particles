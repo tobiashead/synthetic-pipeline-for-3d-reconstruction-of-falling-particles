{
 "cells": [
  {
   "cell_type": "code",
   "execution_count": 1,
   "metadata": {},
   "outputs": [],
   "source": [
    "import numpy as np\n",
    "import subprocess\n",
    "from pathlib import Path\n",
    "import os"
   ]
  },
  {
   "cell_type": "code",
   "execution_count": 2,
   "metadata": {},
   "outputs": [],
   "source": [
    "project_name = 'test1234'\n",
    "image_path = Path(r\"C:\\Users\\Tobias\\Documents\\Masterarbeit_lokal\\synthetic_pipeline\\blender_data\\moving_MS_20_2_60images\")"
   ]
  },
  {
   "cell_type": "code",
   "execution_count": 7,
   "metadata": {},
   "outputs": [],
   "source": [
    "colmap_path = Path(r'C:\\Users\\Tobias\\Documents\\Masterarbeit_lokal\\COLMAP-3.9.1-windows-cuda')\n",
    "base_output_path = Path(r\"C:\\Users\\Tobias\\Documents\\Masterarbeit_lokal\\synthetic_pipeline\\colmap_data\")\n",
    "output_path = base_output_path / project_name\n",
    "# Check if the folder already exists\n",
    "if output_path.exists():   \n",
    "    # Initialize counter\n",
    "    counter = 1\n",
    "    # Generate a unique folder name\n",
    "    while True:\n",
    "        # Create the folder path with suffix\n",
    "        output_path_with_suffix  = base_output_path  / f\"{project_name}_{counter}\"  \n",
    "        # Check if the folder with suffix already exists\n",
    "        if not output_path_with_suffix.exists():\n",
    "            output_path = output_path_with_suffix\n",
    "            break    \n",
    "        # Increment counter for the next attempt\n",
    "        counter += 1\n",
    "os.mkdir(output_path)\n",
    "project_path = output_path / 'project_file.ini'"
   ]
  },
  {
   "cell_type": "code",
   "execution_count": 11,
   "metadata": {},
   "outputs": [],
   "source": [
    "quality = 'low'        # {low, medium, high, extreme}\n",
    "command = [\n",
    "    colmap_path / 'COLMAP.bat',\n",
    "    'automatic_reconstructor',\n",
    "    '--workspace_path',output_path,\n",
    "    '--image_path',image_path,\n",
    "#    '--project_path',project_path,\n",
    "    '--quality', quality,\n",
    "    '--log_to_stderr', 'False'\n",
    "]\n",
    "# Run the command\n",
    "log_file = output_path / 'logfile.txt'\n",
    "f = open(log_file, 'w')\n",
    "return_code = subprocess.run(command, text=True, stdout=f, stderr=subprocess.PIPE)\n"
   ]
  },
  {
   "cell_type": "code",
   "execution_count": 9,
   "metadata": {},
   "outputs": [
    {
     "data": {
      "text/plain": [
       "CompletedProcess(args=[WindowsPath('C:/Users/Tobias/Documents/Masterarbeit_lokal/COLMAP-3.9.1-windows-cuda/COLMAP.bat'), 'automatic_reconstructor', '--workspace_path', WindowsPath('C:/Users/Tobias/Documents/Masterarbeit_lokal/synthetic_pipeline/colmap_data/test1234_1'), '--image_path', WindowsPath('C:/Users/Tobias/Documents/Masterarbeit_lokal/synthetic_pipeline/blender_data/moving_MS_20_2_60images'), '--project_path', WindowsPath('C:/Users/Tobias/Documents/Masterarbeit_lokal/synthetic_pipeline/colmap_data/test1234_1/project_file.ini'), '--quality', 'low'], returncode=1, stderr='E20240315 18:07:15.379865 19712 option_manager.cc:889] Configuration file does not exist.\\n')"
      ]
     },
     "execution_count": 9,
     "metadata": {},
     "output_type": "execute_result"
    }
   ],
   "source": [
    "return_code"
   ]
  }
 ],
 "metadata": {
  "kernelspec": {
   "display_name": "venv_synthetic_311",
   "language": "python",
   "name": "python3"
  },
  "language_info": {
   "codemirror_mode": {
    "name": "ipython",
    "version": 3
   },
   "file_extension": ".py",
   "mimetype": "text/x-python",
   "name": "python",
   "nbconvert_exporter": "python",
   "pygments_lexer": "ipython3",
   "version": "3.11.8"
  }
 },
 "nbformat": 4,
 "nbformat_minor": 2
}
