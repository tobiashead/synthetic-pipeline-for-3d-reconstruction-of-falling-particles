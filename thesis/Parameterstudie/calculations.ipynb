{
 "cells": [
  {
   "cell_type": "markdown",
   "metadata": {},
   "source": [
    "## Rotationsgeschwindigkeit"
   ]
  },
  {
   "cell_type": "code",
   "execution_count": 1,
   "metadata": {},
   "outputs": [],
   "source": [
    "import numpy as np"
   ]
  },
  {
   "cell_type": "markdown",
   "metadata": {},
   "source": [
    "### Parameter definieren"
   ]
  },
  {
   "cell_type": "code",
   "execution_count": 2,
   "metadata": {},
   "outputs": [],
   "source": [
    "distance2focuspoint = 0.4   # m\n",
    "s0 = 1.2                   # m\n",
    "focuspoint  = 1             # m "
   ]
  },
  {
   "cell_type": "markdown",
   "metadata": {},
   "source": [
    "### Sichtfensterabschätzung"
   ]
  },
  {
   "cell_type": "code",
   "execution_count": 3,
   "metadata": {},
   "outputs": [
    {
     "name": "stdout",
     "output_type": "stream",
     "text": [
      "Sichtfensterhöhe: 0.13325m\n"
     ]
    }
   ],
   "source": [
    "focal_length = 16           # mm\n",
    "sensor_hight = 5.33         # mm\n",
    "viewing_window_hight  = sensor_hight / focal_length * distance2focuspoint   # m\n",
    "print(f\"Sichtfensterhöhe: {viewing_window_hight}m\")"
   ]
  },
  {
   "cell_type": "markdown",
   "metadata": {},
   "source": [
    "### Zeit für Durchquerung des Sichtfensters"
   ]
  },
  {
   "cell_type": "code",
   "execution_count": 4,
   "metadata": {},
   "outputs": [
    {
     "name": "stdout",
     "output_type": "stream",
     "text": [
      "Objekt tritt bei 1.066625m ins Sichtfenster ein\n",
      "Objekt tritt bei 0.933375m ausm Sichtfenster aus\n",
      "Objekt ist 0.0682487071144817s im Sichtfenster der Kameras\n"
     ]
    }
   ],
   "source": [
    "a   = -9.81   # m/s^2\n",
    "v0  = 0       # m/s^2\n",
    "\n",
    "s1 =  focuspoint + viewing_window_hight / 2\n",
    "s2 =  focuspoint - viewing_window_hight / 2\n",
    "print(f\"Objekt tritt bei {s1}m ins Sichtfenster ein\"); print(f\"Objekt tritt bei {s2}m ausm Sichtfenster aus\")\n",
    "t1 = -v0/a + np.sqrt( (v0/a)**2 - (2/a)*(s0-s1) )\n",
    "t2 = -v0/a + np.sqrt( (v0/a)**2 - (2/a)*(s0-s2) )\n",
    "dt = t2-t1\n",
    "print(f\"Objekt ist {dt}s im Sichtfenster der Kameras\")"
   ]
  },
  {
   "cell_type": "markdown",
   "metadata": {},
   "source": [
    "## Rotationsgeschwindigkeit\n",
    "Objekt soll innerhalb des Sichtfenster eine volle Rotation absolvieren, d.h. $\\Delta\\theta = 360°$ "
   ]
  },
  {
   "cell_type": "code",
   "execution_count": 5,
   "metadata": {},
   "outputs": [
    {
     "name": "stdout",
     "output_type": "stream",
     "text": [
      "Das Objekt muss eine Rotationsgeschwindigkeit von 5860.916886367273°/s besitzen\n"
     ]
    }
   ],
   "source": [
    "omega = 400/dt  # °/s\n",
    "print(f\"Das Objekt muss eine Rotationsgeschwindigkeit von {omega}°/s besitzen\")"
   ]
  }
 ],
 "metadata": {
  "kernelspec": {
   "display_name": "venv_synthetic_311",
   "language": "python",
   "name": "python3"
  },
  "language_info": {
   "codemirror_mode": {
    "name": "ipython",
    "version": 3
   },
   "file_extension": ".py",
   "mimetype": "text/x-python",
   "name": "python",
   "nbconvert_exporter": "python",
   "pygments_lexer": "ipython3",
   "version": "3.11.8"
  }
 },
 "nbformat": 4,
 "nbformat_minor": 2
}
