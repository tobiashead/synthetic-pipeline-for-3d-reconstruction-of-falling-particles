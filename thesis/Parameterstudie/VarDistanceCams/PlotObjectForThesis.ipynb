{
 "cells": [
  {
   "cell_type": "code",
   "execution_count": 5,
   "metadata": {},
   "outputs": [],
   "source": [
    "import vedo\n",
    "from pathlib import Path\n",
    "import sys\n",
    "import os\n",
    "sys.path.append(os.path.abspath(os.path.join(os.path.dirname(\"__file__\"), '..', \"..\",\"..\")))\n",
    "from src.plot_mesh_vedo import plot_mesh_vedo_one_window, plot_mesh_vedo"
   ]
  },
  {
   "cell_type": "code",
   "execution_count": 6,
   "metadata": {},
   "outputs": [],
   "source": [
    "evaluation_path = r\"C:\\Users\\Tobias\\Documents\\Masterarbeit_lokal\\ParamStudies\\Distance_3cams_rotY360_s0_12\\Study_distance_3cams_rotY360_s0_12_23\\Evaluation\"\n",
    "#screenshot_path = r\"C:\\Users\\Tobias\\Nextcloud\\clientsync\\UNI\\Masterarbeit\\Auswertung\\Abstand\\test.png\""
   ]
  },
  {
   "cell_type": "code",
   "execution_count": 7,
   "metadata": {},
   "outputs": [],
   "source": [
    "#mesh_path = Path(evaluation_path) / 'texturedMesh_TRANSFORMED.obj'\n",
    "#texture_path = Path(evaluation_path) /'texture_1001.png'\n",
    "#obj_exists = plot_mesh_vedo_one_window(mesh_path,texture_path,screenshot_path)\n"
   ]
  },
  {
   "cell_type": "code",
   "execution_count": 8,
   "metadata": {},
   "outputs": [
    {
     "data": {
      "text/plain": [
       "(<vedo.plotter.Plotter at 0x1e3fe5c9f90>,\n",
       " WindowsPath('C:/Users/Tobias/Documents/Masterarbeit_lokal/ParamStudies/Distance_3cams_rotY360_s0_12/Study_distance_3cams_rotY360_s0_12_23/Evaluation/Study_distance_3cams_rotY360_s0_12_23_Transformed.png'))"
      ]
     },
     "execution_count": 8,
     "metadata": {},
     "output_type": "execute_result"
    }
   ],
   "source": [
    "plot_mesh_vedo(\"Study_distance_3cams_rotY360_s0_12_23_Transformed\",evaluation_path,DisplayPlots = False,Transformed = True)"
   ]
  }
 ],
 "metadata": {
  "kernelspec": {
   "display_name": "venv_synthetic_311",
   "language": "python",
   "name": "python3"
  },
  "language_info": {
   "codemirror_mode": {
    "name": "ipython",
    "version": 3
   },
   "file_extension": ".py",
   "mimetype": "text/x-python",
   "name": "python",
   "nbconvert_exporter": "python",
   "pygments_lexer": "ipython3",
   "version": "3.11.8"
  }
 },
 "nbformat": 4,
 "nbformat_minor": 2
}
