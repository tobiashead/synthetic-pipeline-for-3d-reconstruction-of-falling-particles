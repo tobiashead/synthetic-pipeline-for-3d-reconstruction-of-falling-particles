{
 "cells": [
  {
   "cell_type": "code",
   "execution_count": 3,
   "metadata": {},
   "outputs": [],
   "source": [
    "import vedo\n",
    "from pathlib import Path\n",
    "import sys\n",
    "import os\n",
    "sys.path.append(os.path.abspath(os.path.join(os.path.dirname(\"__file__\"), '..', \"..\",\"..\")))\n",
    "from src.plot_mesh_vedo import plot_mesh_vedo_one_window, plot_mesh_vedo"
   ]
  },
  {
   "cell_type": "code",
   "execution_count": null,
   "metadata": {},
   "outputs": [],
   "source": [
    "evaluation_path = r\"C:\\Users\\Tobias\\Documents\\Masterarbeit_lokal\\ParamStudies\\Distance_3cam_rotY400_ObjectCenter\\Distance_3cam_rotY400_ObjectCenter_13\\Evaluation\"\n",
    "screenshot_path = r\"C:\\Users\\Tobias\\Nextcloud\\clientsync\\UNI\\Masterarbeit\\Auswertung\\Abstand\\400_object_center\\40cm_mesh.png\""
   ]
  },
  {
   "cell_type": "code",
   "execution_count": 7,
   "metadata": {},
   "outputs": [],
   "source": [
    "mesh_path = Path(evaluation_path) / 'texturedMesh_TRANSFORMED.obj'\n",
    "texture_path = Path(evaluation_path) /'texture_1001.png'\n",
    "obj_exists = plot_mesh_vedo_one_window(mesh_path,texture_path,screenshot_path)\n"
   ]
  },
  {
   "cell_type": "code",
   "execution_count": 8,
   "metadata": {},
   "outputs": [
    {
     "name": "stdout",
     "output_type": "stream",
     "text": [
      "Warning: Mesh file and/or texture file not existing.\n"
     ]
    },
    {
     "data": {
      "text/plain": [
       "(None, None)"
      ]
     },
     "execution_count": 8,
     "metadata": {},
     "output_type": "execute_result"
    }
   ],
   "source": [
    "plot_mesh_vedo(\"Study_distance_3cams_rotY360_s0_12_23_Transformed\",evaluation_path,DisplayPlots = True,Transformed = True)"
   ]
  }
 ],
 "metadata": {
  "kernelspec": {
   "display_name": "venv_synthetic_311",
   "language": "python",
   "name": "python3"
  },
  "language_info": {
   "codemirror_mode": {
    "name": "ipython",
    "version": 3
   },
   "file_extension": ".py",
   "mimetype": "text/x-python",
   "name": "python",
   "nbconvert_exporter": "python",
   "pygments_lexer": "ipython3",
   "version": "3.11.8"
  }
 },
 "nbformat": 4,
 "nbformat_minor": 2
}
