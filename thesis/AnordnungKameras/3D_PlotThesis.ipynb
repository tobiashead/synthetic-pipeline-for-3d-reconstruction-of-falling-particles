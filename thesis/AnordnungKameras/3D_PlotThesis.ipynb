{
 "cells": [
  {
   "cell_type": "code",
   "execution_count": 88,
   "metadata": {},
   "outputs": [],
   "source": [
    "import sys\n",
    "import os\n",
    "sys.path.append(os.path.abspath(os.path.join(os.getcwd(), \"../..\")))\n",
    "from src.CameraProcessing import read_camera_alignment_reference, read_object_alignment\n",
    "from pathlib import Path\n",
    "import json\n",
    "import importlib\n",
    "import matplotlib.pyplot as plt\n",
    "%matplotlib qt\n",
    "\n"
   ]
  },
  {
   "cell_type": "code",
   "execution_count": 89,
   "metadata": {},
   "outputs": [],
   "source": [
    "image_dir = r\"C:\\Users\\Tobias\\Documents\\Masterarbeit_lokal\\synthetic_pipeline\\blender_data\\Test100fps_25\""
   ]
  },
  {
   "cell_type": "code",
   "execution_count": 90,
   "metadata": {},
   "outputs": [],
   "source": [
    "style_path = Path(os.path.abspath(os.path.join(os.getcwd(), \"..\"))) / 'thesis.mplstyle'\n",
    "plt.style.use(str(style_path))"
   ]
  },
  {
   "cell_type": "code",
   "execution_count": 91,
   "metadata": {},
   "outputs": [],
   "source": [
    "# load camera parameters\n",
    "params_file_path = Path(image_dir) / \"params.json\"\n",
    "with open(params_file_path, 'r') as file:\n",
    "    params = json.load(file)\n",
    "focuspoint = params[\"cam\"][\"focuspoint\"]\n",
    "focal_length = params[\"cam\"][\"focal_length\"]*10**(-3)\n",
    "sensor_width = params[\"cam\"][\"sensor_size\"][0]*10**(-3)\n",
    "aspect_ratio = params[\"cam\"][\"sensor_size\"][0] / params[\"cam\"][\"sensor_size\"][1]\n",
    "rotation_axis = params[\"motion\"][\"e\"]"
   ]
  },
  {
   "cell_type": "code",
   "execution_count": 92,
   "metadata": {},
   "outputs": [],
   "source": [
    "cams = read_camera_alignment_reference(image_dir)\n",
    "objs, obj0 = read_object_alignment(image_dir)   \n",
    "for cam in cams:\n",
    "    Tdynamic2static = cam.Dynamic2StaticScene(objs[cam.CorrespondigIndexObject].Transformation, obj0.Transformation,focuspoint)"
   ]
  },
  {
   "cell_type": "code",
   "execution_count": 93,
   "metadata": {},
   "outputs": [],
   "source": [
    "top=1.0\n",
    "bottom=0.02\n",
    "left=0\n",
    "right=0.89\n",
    "hspace=0.2\n",
    "wspace=0.2\n",
    "azim = -60; elev = 30"
   ]
  },
  {
   "cell_type": "code",
   "execution_count": 94,
   "metadata": {},
   "outputs": [],
   "source": [
    "%matplotlib qt"
   ]
  },
  {
   "cell_type": "code",
   "execution_count": 95,
   "metadata": {},
   "outputs": [
    {
     "name": "stdout",
     "output_type": "stream",
     "text": [
      "initialize camera pose visualizer\n",
      "Saved azimuth: -60, elevation: 30\n"
     ]
    }
   ],
   "source": [
    "importlib.reload(sys.modules['src.camera_pose_visualizer']) if 'src.camera_pose_visualizer' in sys.modules else None\n",
    "from src.camera_pose_visualizer import CameraPoseVisualizer\n",
    "# static scene    \n",
    "visualizer = CameraPoseVisualizer([-0.3, 0.3], [-0.3, 0.3], [0.7, 1.3],figsize=(5.46/2,3.7))\n",
    "visualizer.load_cameras(cams,focal_length,aspect_ratio,sensor_width,scale=2,alpha=0.3,DrawCoordSystem=True,static_scene=True,colorbar=True,colorbar_orientation='horizontal') \n",
    "visualizer.load_cube(cams,static_scene=True,position=[0,0.0,1.0])\n",
    "cbar = visualizer.fig.axes[1].set_xlabel(\"Zeitpunkt k\")   \n",
    "#visualizer.ax.view_init(elev=elev, azim=azim)\n",
    "visualizer.show()\n",
    "print(f\"Saved azimuth: {visualizer.ax.azim}, elevation: {visualizer.ax.elev}\")"
   ]
  },
  {
   "cell_type": "code",
   "execution_count": 96,
   "metadata": {},
   "outputs": [],
   "source": [
    "# top=1.0; bottom=0.11; left=0; right=0.88 # figsize 2.85\n",
    "top=1.0; bottom=0.120; left=0; right=0.875 # figsize 2.85\n",
    "azim = -60; elev = 30"
   ]
  },
  {
   "cell_type": "markdown",
   "metadata": {},
   "source": [
    "ohne Colorbar"
   ]
  },
  {
   "cell_type": "code",
   "execution_count": 97,
   "metadata": {},
   "outputs": [
    {
     "name": "stdout",
     "output_type": "stream",
     "text": [
      "initialize camera pose visualizer\n",
      "Saved azimuth: -60, elevation: 30\n"
     ]
    }
   ],
   "source": [
    "importlib.reload(sys.modules['src.camera_pose_visualizer']) if 'src.camera_pose_visualizer' in sys.modules else None\n",
    "from src.camera_pose_visualizer import CameraPoseVisualizer\n",
    "# static scene    \n",
    "visualizer = CameraPoseVisualizer([-0.3, 0.3], [-0.3, 0.3], [0.7, 1.3],figsize=(2.8,2.8))\n",
    "# visualizer = CameraPoseVisualizer([-0.3, 0.3], [-0.3, 0.3], [0.7, 1.3],figsize=(2.8,2.80))\n",
    "visualizer.load_cameras(cams,focal_length,aspect_ratio,sensor_width,scale=2,alpha=0.3,DrawCoordSystem=True,static_scene=True,colorbar=False,colorbar_orientation='horizontal') \n",
    "visualizer.load_cube(cams,static_scene=True,position=[0,0.0,1.0])\n",
    "#cbar = visualizer.fig.axes[1].set_xlabel(\"Zeitpunkt k\")   \n",
    "#visualizer.ax.view_init(elev=elev, azim=azim)\n",
    "#visualizer2.save(path,bbox_inches=None)  \n",
    "visualizer.show()\n",
    "print(f\"Saved azimuth: {visualizer.ax.azim}, elevation: {visualizer.ax.elev}\")"
   ]
  },
  {
   "cell_type": "markdown",
   "metadata": {},
   "source": [
    "## Art: 2D-Ansicht"
   ]
  },
  {
   "cell_type": "markdown",
   "metadata": {},
   "source": [
    "ohne Colorbar"
   ]
  },
  {
   "cell_type": "code",
   "execution_count": 98,
   "metadata": {},
   "outputs": [
    {
     "name": "stdout",
     "output_type": "stream",
     "text": [
      "initialize camera pose visualizer\n",
      "Saved azimuth: 90, elevation: 0\n"
     ]
    }
   ],
   "source": [
    "elev = 0\n",
    "azim= 90\n",
    "\n",
    "importlib.reload(sys.modules['src.camera_pose_visualizer']) if 'src.camera_pose_visualizer' in sys.modules else None\n",
    "from src.camera_pose_visualizer import CameraPoseVisualizer\n",
    "# static scene    \n",
    "visualizer3 = CameraPoseVisualizer([-0.4, 0.4], [-0.4, 0.4], [0.6, 1.4],figsize=(3.2,3.2))\n",
    "# visualizer = CameraPoseVisualizer([-0.3, 0.3], [-0.3, 0.3], [0.7, 1.3],figsize=(2.8,2.80))\n",
    "visualizer3.load_cameras(cams,focal_length,aspect_ratio,sensor_width,scale=2,alpha=0.3,DrawCoordSystem=True,static_scene=True,colorbar=False,colorbar_orientation='horizontal') \n",
    "visualizer3.load_cube(cams,static_scene=True,position=[0,0.0,1.0])\n",
    "#cbar = visualizer.fig.axes[1].set_xlabel(\"Zeitpunkt k\")   \n",
    "\n",
    "#visualizer2.save(path,bbox_inches=None)  \n",
    "visualizer3.show()\n",
    "visualizer3.ax.view_init(elev=elev, azim=azim)\n",
    "visualizer3.ax.set_yticks([])\n",
    "visualizer3.ax.set_ylabel(\"\")\n",
    "print(f\"Saved azimuth: {visualizer3.ax.azim}, elevation: {visualizer3.ax.elev}\")"
   ]
  },
  {
   "cell_type": "markdown",
   "metadata": {},
   "source": [
    "mit Colorbar"
   ]
  },
  {
   "cell_type": "code",
   "execution_count": 99,
   "metadata": {},
   "outputs": [
    {
     "name": "stdout",
     "output_type": "stream",
     "text": [
      "initialize camera pose visualizer\n",
      "Saved azimuth: 90, elevation: 0\n"
     ]
    }
   ],
   "source": [
    "elev = 0\n",
    "azim= 90\n",
    "\n",
    "importlib.reload(sys.modules['src.camera_pose_visualizer']) if 'src.camera_pose_visualizer' in sys.modules else None\n",
    "from src.camera_pose_visualizer import CameraPoseVisualizer\n",
    "# static scene    \n",
    "visualizer3 = CameraPoseVisualizer([-0.4, 0.4], [-0.4, 0.4], [0.6, 1.4],figsize=(2.8,2.8))\n",
    "# visualizer = CameraPoseVisualizer([-0.3, 0.3], [-0.3, 0.3], [0.7, 1.3],figsize=(2.8,2.80))\n",
    "visualizer3.load_cameras(cams,focal_length,aspect_ratio,sensor_width,scale=2,alpha=0.3,DrawCoordSystem=True,static_scene=True,colorbar=True,colorbar_orientation='vertical') \n",
    "visualizer3.load_cube(cams,static_scene=True,position=[0,0.0,1.0])\n",
    "#cbar = visualizer.fig.axes[1].set_xlabel(\"Zeitpunkt k\")   \n",
    "\n",
    "#visualizer2.save(path,bbox_inches=None)  \n",
    "visualizer3.show()\n",
    "visualizer3.ax.view_init(elev=elev, azim=azim)\n",
    "visualizer3.ax.set_yticks([])\n",
    "visualizer3.ax.set_ylabel(\"\")\n",
    "cbar = visualizer3.fig.axes[1].set_ylabel(\"Zeitpunkt k\") \n",
    "print(f\"Saved azimuth: {visualizer3.ax.azim}, elevation: {visualizer3.ax.elev}\")"
   ]
  }
 ],
 "metadata": {
  "kernelspec": {
   "display_name": "venv_synthetic_311",
   "language": "python",
   "name": "python3"
  },
  "language_info": {
   "codemirror_mode": {
    "name": "ipython",
    "version": 3
   },
   "file_extension": ".py",
   "mimetype": "text/x-python",
   "name": "python",
   "nbconvert_exporter": "python",
   "pygments_lexer": "ipython3",
   "version": "3.11.8"
  }
 },
 "nbformat": 4,
 "nbformat_minor": 2
}
