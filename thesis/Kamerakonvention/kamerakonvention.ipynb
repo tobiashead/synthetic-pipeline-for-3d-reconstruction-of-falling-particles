{
 "cells": [
  {
   "cell_type": "code",
   "execution_count": 1,
   "metadata": {},
   "outputs": [],
   "source": [
    "import sys\n",
    "import os\n",
    "parent_folder = os.path.abspath(os.path.join(os.getcwd(), '..'))\n",
    "parent_parent_folder_path = os.path.abspath(os.path.join(os.getcwd(), '..','..'))\n",
    "sys.path.append(parent_parent_folder_path)\n",
    "from src.camera_pose_visualizer import CameraPoseVisualizer\n",
    "import matplotlib.pyplot as plt\n",
    "from pathlib import Path\n",
    "import numpy as np\n",
    "import json\n",
    "\n"
   ]
  },
  {
   "cell_type": "code",
   "execution_count": 2,
   "metadata": {},
   "outputs": [],
   "source": [
    "style_path = Path(parent_folder) / 'thesis.mplstyle'\n",
    "#plt.switch_backend('qt5agg')\n",
    "plt.style.use(str(style_path))"
   ]
  },
  {
   "cell_type": "code",
   "execution_count": 3,
   "metadata": {},
   "outputs": [],
   "source": [
    "image_dir = r\"C:\\Users\\Tobias\\Documents\\Masterarbeit_lokal\\synthetic_pipeline\\blender_data\\PlotRegistrierung1\"\n",
    "# load camera parameters\n",
    "params_file_path = Path(image_dir) / \"params.json\"\n",
    "with open(params_file_path, 'r') as file:\n",
    "    params = json.load(file)\n",
    "focuspoint = params[\"cam\"][\"focuspoint\"]\n",
    "focal_length = params[\"cam\"][\"focal_length\"]*10**(-3)\n",
    "sensor_width = params[\"cam\"][\"sensor_size\"][0]*10**(-3)\n",
    "aspect_ratio = params[\"cam\"][\"sensor_size\"][0] / params[\"cam\"][\"sensor_size\"][1]"
   ]
  },
  {
   "cell_type": "code",
   "execution_count": null,
   "metadata": {},
   "outputs": [],
   "source": [
    "%matplotlib qt"
   ]
  },
  {
   "cell_type": "code",
   "execution_count": 63,
   "metadata": {},
   "outputs": [
    {
     "name": "stdout",
     "output_type": "stream",
     "text": [
      "initialize camera pose visualizer\n"
     ]
    }
   ],
   "source": [
    "#euler_angle = \n",
    "extrinsic1 = np.zeros([4,4]); extrinsic1[0,0] = 1; extrinsic1[1,2] = -1; extrinsic1[2,1] = 1; extrinsic1[3,3] = 1; \n",
    "#extrinsic = np.eye(4)\n",
    "#extrinsic1 = np.eye(4); extrinsic1[0,3] = 0\n",
    "#extrinsic2 = np.eye(4); extrinsic2[0,3] = 0\n",
    "elev = 26; azim = 53\n",
    "visualizer1 = CameraPoseVisualizer([-0.1, 0.2], [-0.15, 0.15], [-0.1, 0.2], figsize = (3, 3))\n",
    "visualizer1.extrinsic2pyramid(extrinsic1, color='brown', focal_len = focal_length, aspect_ratio = aspect_ratio,sensor_width =sensor_width,scale_rel=10,alpha=0.2,DrawCoordSystem=True,cam_model = \"Blender\")"
   ]
  },
  {
   "cell_type": "code",
   "execution_count": 64,
   "metadata": {},
   "outputs": [
    {
     "name": "stdout",
     "output_type": "stream",
     "text": [
      "initialize camera pose visualizer\n"
     ]
    }
   ],
   "source": [
    "extrinsic2 = extrinsic1.copy()\n",
    "converting = np.array([[1,0,0],[0 ,-1, 0],[0, 0, -1]])\n",
    "rot_matrix_blender = extrinsic2[:3,:3].copy()\n",
    "rot_matrix = converting @ rot_matrix_blender\n",
    "extrinsic2[:3,:3] = rot_matrix\n",
    "visualizer2 = CameraPoseVisualizer([-0.1, 0.2], [-0.15, 0.15], [-0.1, 0.2], figsize = (3, 3))\n",
    "visualizer2.extrinsic2pyramid(extrinsic2, color='olive', focal_len = focal_length, aspect_ratio = aspect_ratio,sensor_width =sensor_width,scale_rel=10,alpha=0.2,DrawCoordSystem=True,cam_model = \"OpenCV\")"
   ]
  }
 ],
 "metadata": {
  "kernelspec": {
   "display_name": "venv_synthetic_311",
   "language": "python",
   "name": "python3"
  },
  "language_info": {
   "codemirror_mode": {
    "name": "ipython",
    "version": 3
   },
   "file_extension": ".py",
   "mimetype": "text/x-python",
   "name": "python",
   "nbconvert_exporter": "python",
   "pygments_lexer": "ipython3",
   "version": "3.11.8"
  }
 },
 "nbformat": 4,
 "nbformat_minor": 2
}
